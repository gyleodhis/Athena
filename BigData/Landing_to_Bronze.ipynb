{
 "cells": [
  {
   "cell_type": "code",
   "execution_count": 1,
   "id": "fb8d339a",
   "metadata": {},
   "outputs": [],
   "source": [
    "import pandas as pd\n",
    "from datetime import datetime as dt\n",
    "from functools import reduce\n",
    "from pyspark.sql import SparkSession\n",
    "from pyspark.sql.functions import  col, upper,lit ,date_format, input_file_name,current_date\n",
    "import calendar\n",
    "import datetime"
   ]
  },
  {
   "cell_type": "code",
   "execution_count": 2,
   "id": "06d0b161",
   "metadata": {},
   "outputs": [
    {
     "name": "stderr",
     "output_type": "stream",
     "text": [
      "Setting default log level to \"WARN\".\n",
      "To adjust logging level use sc.setLogLevel(newLevel). For SparkR, use setLogLevel(newLevel).\n",
      "23/10/06 15:22:49 WARN NativeCodeLoader: Unable to load native-hadoop library for your platform... using builtin-java classes where applicable\n",
      "23/10/06 15:22:50 WARN Utils: Service 'SparkUI' could not bind on port 4040. Attempting port 4041.\n",
      "23/10/06 15:22:50 WARN Utils: Service 'SparkUI' could not bind on port 4041. Attempting port 4042.\n"
     ]
    }
   ],
   "source": [
    "spark=SparkSession.builder.appName('LANDING TO BRONZE').getOrCreate()"
   ]
  },
  {
   "cell_type": "code",
   "execution_count": 3,
   "id": "c245d666",
   "metadata": {},
   "outputs": [],
   "source": [
    "landing_path = '../DataLake/Landing/craigslist_vehicles.csv'\n",
    "bronze_path = '../DataLake/Bronze/'"
   ]
  },
  {
   "cell_type": "markdown",
   "id": "d07df7ba",
   "metadata": {},
   "source": [
    "### Load data from landing into Spark dataframe"
   ]
  },
  {
   "cell_type": "code",
   "execution_count": 4,
   "id": "e66d19ea",
   "metadata": {},
   "outputs": [
    {
     "name": "stderr",
     "output_type": "stream",
     "text": [
      "                                                                                \r"
     ]
    }
   ],
   "source": [
    "raw_data_df = (spark.read.format('csv')\n",
    "                            .option('header', True)\n",
    "                            .option(\"inferSchema\", \"true\")\n",
    "                            .option(\"sep\", \",\")   \n",
    "                            .load(landing_path)\n",
    "                            .withColumn(\"FILE_NAME\", input_file_name()))\n",
    "# Dropping null columns significantly reduceses dataframe size hence commenting it out.\n",
    "# raw_data_df = raw_data_df.na.drop()\n",
    "raw_data_df = raw_data_df.drop('_c0')"
   ]
  },
  {
   "cell_type": "markdown",
   "id": "7da5408a",
   "metadata": {},
   "source": [
    "### Standardize columns and Dates"
   ]
  },
  {
   "cell_type": "code",
   "execution_count": 5,
   "id": "23005ab0",
   "metadata": {},
   "outputs": [],
   "source": [
    "stdzd_data_df = (raw_data_df.select([col(cols).alias(cols.replace(' ','_').upper()) for cols in raw_data_df.columns])\n",
    "                 .withColumn(\"POSTING_DATE\",date_format(\"POSTING_DATE\",\"yyyyMMdd\"))\n",
    "                 .withColumn(\"REMOVAL_DATE\",date_format(\"REMOVAL_DATE\",\"yyyyMMdd\")))"
   ]
  },
  {
   "cell_type": "markdown",
   "id": "4707a3d6",
   "metadata": {},
   "source": [
    "### Add Watermark Columns"
   ]
  },
  {
   "cell_type": "code",
   "execution_count": 6,
   "id": "5da5fe21",
   "metadata": {},
   "outputs": [],
   "source": [
    "stdzd_data_df = (stdzd_data_df.withColumn(\"YEAR\",stdzd_data_df.YEAR.cast('int'))\n",
    "                 .withColumn('RUN_DATE_ID', date_format(current_date(),\"yyyyMMdd\").cast('int')))"
   ]
  },
  {
   "cell_type": "markdown",
   "id": "8543571a",
   "metadata": {},
   "source": [
    "### Show 5 records as Pandas DataFrame for better visibility"
   ]
  },
  {
   "cell_type": "code",
   "execution_count": 7,
   "id": "681affe6",
   "metadata": {},
   "outputs": [
    {
     "name": "stderr",
     "output_type": "stream",
     "text": [
      "23/10/06 15:22:58 WARN SparkStringUtils: Truncated the string representation of a plan since it was too large. This behavior can be adjusted by setting 'spark.sql.debug.maxToStringFields'.\n"
     ]
    },
    {
     "data": {
      "text/html": [
       "<div>\n",
       "<style scoped>\n",
       "    .dataframe tbody tr th:only-of-type {\n",
       "        vertical-align: middle;\n",
       "    }\n",
       "\n",
       "    .dataframe tbody tr th {\n",
       "        vertical-align: top;\n",
       "    }\n",
       "\n",
       "    .dataframe thead th {\n",
       "        text-align: right;\n",
       "    }\n",
       "</style>\n",
       "<table border=\"1\" class=\"dataframe\">\n",
       "  <thead>\n",
       "    <tr style=\"text-align: right;\">\n",
       "      <th></th>\n",
       "      <th>ID</th>\n",
       "      <th>URL</th>\n",
       "      <th>REGION</th>\n",
       "      <th>REGION_URL</th>\n",
       "      <th>PRICE</th>\n",
       "      <th>YEAR</th>\n",
       "      <th>MANUFACTURER</th>\n",
       "      <th>MODEL</th>\n",
       "      <th>CONDITION</th>\n",
       "      <th>CYLINDERS</th>\n",
       "      <th>...</th>\n",
       "      <th>IMAGE_URL</th>\n",
       "      <th>DESCRIPTION</th>\n",
       "      <th>COUNTY</th>\n",
       "      <th>STATE</th>\n",
       "      <th>LAT</th>\n",
       "      <th>LONG</th>\n",
       "      <th>POSTING_DATE</th>\n",
       "      <th>REMOVAL_DATE</th>\n",
       "      <th>FILE_NAME</th>\n",
       "      <th>RUN_DATE_ID</th>\n",
       "    </tr>\n",
       "  </thead>\n",
       "  <tbody>\n",
       "    <tr>\n",
       "      <th>0</th>\n",
       "      <td>7307679724</td>\n",
       "      <td>https://abilene.craigslist.org/ctd/d/abilene-2...</td>\n",
       "      <td>abilene</td>\n",
       "      <td>https://abilene.craigslist.org</td>\n",
       "      <td>4500</td>\n",
       "      <td>2002</td>\n",
       "      <td>bmw</td>\n",
       "      <td>x5</td>\n",
       "      <td>None</td>\n",
       "      <td>None</td>\n",
       "      <td>...</td>\n",
       "      <td>https://images.craigslist.org/00m0m_iba78h8ty9...</td>\n",
       "      <td>$4,500 Cash  2002 BMW X5  8 cylinder 4.4L moto...</td>\n",
       "      <td>None</td>\n",
       "      <td>tx</td>\n",
       "      <td>32.401556</td>\n",
       "      <td>-99.884713</td>\n",
       "      <td>20210416</td>\n",
       "      <td>20210502</td>\n",
       "      <td>file:///Users/gaylord/Documents/Athena/DataLak...</td>\n",
       "      <td>20231006</td>\n",
       "    </tr>\n",
       "    <tr>\n",
       "      <th>1</th>\n",
       "      <td>7311833696</td>\n",
       "      <td>https://abilene.craigslist.org/ctd/d/abilene-2...</td>\n",
       "      <td>abilene</td>\n",
       "      <td>https://abilene.craigslist.org</td>\n",
       "      <td>4500</td>\n",
       "      <td>2002</td>\n",
       "      <td>bmw</td>\n",
       "      <td>x5</td>\n",
       "      <td>None</td>\n",
       "      <td>None</td>\n",
       "      <td>...</td>\n",
       "      <td>https://images.craigslist.org/00m0m_iba78h8ty9...</td>\n",
       "      <td>$4,500 Cash  2002 BMW X5  8 cylinder 4.4L moto...</td>\n",
       "      <td>None</td>\n",
       "      <td>tx</td>\n",
       "      <td>32.401556</td>\n",
       "      <td>-99.884713</td>\n",
       "      <td>20210424</td>\n",
       "      <td>20210428</td>\n",
       "      <td>file:///Users/gaylord/Documents/Athena/DataLak...</td>\n",
       "      <td>20231006</td>\n",
       "    </tr>\n",
       "    <tr>\n",
       "      <th>2</th>\n",
       "      <td>7311441996</td>\n",
       "      <td>https://abilene.craigslist.org/ctd/d/abilene-2...</td>\n",
       "      <td>abilene</td>\n",
       "      <td>https://abilene.craigslist.org</td>\n",
       "      <td>4900</td>\n",
       "      <td>2006</td>\n",
       "      <td>toyota</td>\n",
       "      <td>camry</td>\n",
       "      <td>excellent</td>\n",
       "      <td>4 cylinders</td>\n",
       "      <td>...</td>\n",
       "      <td>https://images.craigslist.org/00808_5FkOw2aGjA...</td>\n",
       "      <td>2006 TOYOTA CAMRY LE Sedan   Ready To Upgrade ...</td>\n",
       "      <td>None</td>\n",
       "      <td>tx</td>\n",
       "      <td>32.453848</td>\n",
       "      <td>-99.7879</td>\n",
       "      <td>20210423</td>\n",
       "      <td>20210525</td>\n",
       "      <td>file:///Users/gaylord/Documents/Athena/DataLak...</td>\n",
       "      <td>20231006</td>\n",
       "    </tr>\n",
       "    <tr>\n",
       "      <th>3</th>\n",
       "      <td>7307680715</td>\n",
       "      <td>https://abilene.craigslist.org/ctd/d/abilene-2...</td>\n",
       "      <td>abilene</td>\n",
       "      <td>https://abilene.craigslist.org</td>\n",
       "      <td>6500</td>\n",
       "      <td>2008</td>\n",
       "      <td>ford</td>\n",
       "      <td>expedition</td>\n",
       "      <td>None</td>\n",
       "      <td>None</td>\n",
       "      <td>...</td>\n",
       "      <td>https://images.craigslist.org/00M0M_i9CoFvVq8o...</td>\n",
       "      <td>$6500.00 2008 Ford Expedition  8 cylinder 5.4L...</td>\n",
       "      <td>None</td>\n",
       "      <td>tx</td>\n",
       "      <td>32.401556</td>\n",
       "      <td>-99.884713</td>\n",
       "      <td>20210416</td>\n",
       "      <td>20210426</td>\n",
       "      <td>file:///Users/gaylord/Documents/Athena/DataLak...</td>\n",
       "      <td>20231006</td>\n",
       "    </tr>\n",
       "    <tr>\n",
       "      <th>4</th>\n",
       "      <td>7311834578</td>\n",
       "      <td>https://abilene.craigslist.org/ctd/d/abilene-2...</td>\n",
       "      <td>abilene</td>\n",
       "      <td>https://abilene.craigslist.org</td>\n",
       "      <td>6500</td>\n",
       "      <td>2008</td>\n",
       "      <td>ford</td>\n",
       "      <td>expedition</td>\n",
       "      <td>None</td>\n",
       "      <td>None</td>\n",
       "      <td>...</td>\n",
       "      <td>https://images.craigslist.org/00M0M_i9CoFvVq8o...</td>\n",
       "      <td>$6500.00 2008 Ford Expedition  8 cylinder 5.4L...</td>\n",
       "      <td>None</td>\n",
       "      <td>tx</td>\n",
       "      <td>32.401556</td>\n",
       "      <td>-99.884713</td>\n",
       "      <td>20210424</td>\n",
       "      <td>20210512</td>\n",
       "      <td>file:///Users/gaylord/Documents/Athena/DataLak...</td>\n",
       "      <td>20231006</td>\n",
       "    </tr>\n",
       "  </tbody>\n",
       "</table>\n",
       "<p>5 rows × 29 columns</p>\n",
       "</div>"
      ],
      "text/plain": [
       "           ID                                                URL   REGION  \\\n",
       "0  7307679724  https://abilene.craigslist.org/ctd/d/abilene-2...  abilene   \n",
       "1  7311833696  https://abilene.craigslist.org/ctd/d/abilene-2...  abilene   \n",
       "2  7311441996  https://abilene.craigslist.org/ctd/d/abilene-2...  abilene   \n",
       "3  7307680715  https://abilene.craigslist.org/ctd/d/abilene-2...  abilene   \n",
       "4  7311834578  https://abilene.craigslist.org/ctd/d/abilene-2...  abilene   \n",
       "\n",
       "                       REGION_URL PRICE  YEAR MANUFACTURER       MODEL  \\\n",
       "0  https://abilene.craigslist.org  4500  2002          bmw          x5   \n",
       "1  https://abilene.craigslist.org  4500  2002          bmw          x5   \n",
       "2  https://abilene.craigslist.org  4900  2006       toyota       camry   \n",
       "3  https://abilene.craigslist.org  6500  2008         ford  expedition   \n",
       "4  https://abilene.craigslist.org  6500  2008         ford  expedition   \n",
       "\n",
       "   CONDITION    CYLINDERS  ...  \\\n",
       "0       None         None  ...   \n",
       "1       None         None  ...   \n",
       "2  excellent  4 cylinders  ...   \n",
       "3       None         None  ...   \n",
       "4       None         None  ...   \n",
       "\n",
       "                                           IMAGE_URL  \\\n",
       "0  https://images.craigslist.org/00m0m_iba78h8ty9...   \n",
       "1  https://images.craigslist.org/00m0m_iba78h8ty9...   \n",
       "2  https://images.craigslist.org/00808_5FkOw2aGjA...   \n",
       "3  https://images.craigslist.org/00M0M_i9CoFvVq8o...   \n",
       "4  https://images.craigslist.org/00M0M_i9CoFvVq8o...   \n",
       "\n",
       "                                         DESCRIPTION COUNTY STATE        LAT  \\\n",
       "0  $4,500 Cash  2002 BMW X5  8 cylinder 4.4L moto...   None    tx  32.401556   \n",
       "1  $4,500 Cash  2002 BMW X5  8 cylinder 4.4L moto...   None    tx  32.401556   \n",
       "2  2006 TOYOTA CAMRY LE Sedan   Ready To Upgrade ...   None    tx  32.453848   \n",
       "3  $6500.00 2008 Ford Expedition  8 cylinder 5.4L...   None    tx  32.401556   \n",
       "4  $6500.00 2008 Ford Expedition  8 cylinder 5.4L...   None    tx  32.401556   \n",
       "\n",
       "         LONG POSTING_DATE REMOVAL_DATE  \\\n",
       "0  -99.884713     20210416     20210502   \n",
       "1  -99.884713     20210424     20210428   \n",
       "2    -99.7879     20210423     20210525   \n",
       "3  -99.884713     20210416     20210426   \n",
       "4  -99.884713     20210424     20210512   \n",
       "\n",
       "                                           FILE_NAME RUN_DATE_ID  \n",
       "0  file:///Users/gaylord/Documents/Athena/DataLak...    20231006  \n",
       "1  file:///Users/gaylord/Documents/Athena/DataLak...    20231006  \n",
       "2  file:///Users/gaylord/Documents/Athena/DataLak...    20231006  \n",
       "3  file:///Users/gaylord/Documents/Athena/DataLak...    20231006  \n",
       "4  file:///Users/gaylord/Documents/Athena/DataLak...    20231006  \n",
       "\n",
       "[5 rows x 29 columns]"
      ]
     },
     "execution_count": 7,
     "metadata": {},
     "output_type": "execute_result"
    }
   ],
   "source": [
    "stdzd_data_df.limit(10).toPandas().head()"
   ]
  },
  {
   "cell_type": "code",
   "execution_count": 8,
   "id": "39f04637",
   "metadata": {},
   "outputs": [
    {
     "name": "stdout",
     "output_type": "stream",
     "text": [
      "root\n",
      " |-- ID: string (nullable = true)\n",
      " |-- URL: string (nullable = true)\n",
      " |-- REGION: string (nullable = true)\n",
      " |-- REGION_URL: string (nullable = true)\n",
      " |-- PRICE: string (nullable = true)\n",
      " |-- YEAR: integer (nullable = true)\n",
      " |-- MANUFACTURER: string (nullable = true)\n",
      " |-- MODEL: string (nullable = true)\n",
      " |-- CONDITION: string (nullable = true)\n",
      " |-- CYLINDERS: string (nullable = true)\n",
      " |-- FUEL: string (nullable = true)\n",
      " |-- ODOMETER: string (nullable = true)\n",
      " |-- TITLE_STATUS: string (nullable = true)\n",
      " |-- TRANSMISSION: string (nullable = true)\n",
      " |-- VIN: string (nullable = true)\n",
      " |-- DRIVE: string (nullable = true)\n",
      " |-- SIZE: string (nullable = true)\n",
      " |-- TYPE: string (nullable = true)\n",
      " |-- PAINT_COLOR: string (nullable = true)\n",
      " |-- IMAGE_URL: string (nullable = true)\n",
      " |-- DESCRIPTION: string (nullable = true)\n",
      " |-- COUNTY: string (nullable = true)\n",
      " |-- STATE: string (nullable = true)\n",
      " |-- LAT: string (nullable = true)\n",
      " |-- LONG: string (nullable = true)\n",
      " |-- POSTING_DATE: string (nullable = true)\n",
      " |-- REMOVAL_DATE: string (nullable = true)\n",
      " |-- FILE_NAME: string (nullable = false)\n",
      " |-- RUN_DATE_ID: integer (nullable = true)\n",
      "\n"
     ]
    }
   ],
   "source": [
    "# Check Dataframe columns\n",
    "stdzd_data_df.printSchema()"
   ]
  },
  {
   "cell_type": "markdown",
   "id": "4ffb29a0",
   "metadata": {},
   "source": [
    "### Generate Dates from the dataframe to be used for partitioning when writing into Bronze layer"
   ]
  },
  {
   "cell_type": "code",
   "execution_count": 9,
   "id": "47f9c26c",
   "metadata": {},
   "outputs": [
    {
     "name": "stderr",
     "output_type": "stream",
     "text": [
      "                                                                                \r"
     ]
    }
   ],
   "source": [
    "unique_dates = stdzd_data_df.select(\"POSTING_DATE\").distinct().rdd.flatMap(lambda x: x).collect()\n",
    "\n",
    "dates_processed = [] \n",
    "for dates_ in unique_dates : \n",
    "    dates_processed.append(dates_)\n",
    "\n",
    "#Create a comma separated list\n",
    "dates_processed_str = \",\".join(str(i) for i in dates_processed)\n",
    "\n",
    "partition_predicate = f\"POSTING_DATE IN ({dates_processed_str}) \" "
   ]
  },
  {
   "cell_type": "code",
   "execution_count": 10,
   "id": "722a6fe7",
   "metadata": {},
   "outputs": [
    {
     "name": "stderr",
     "output_type": "stream",
     "text": [
      "\r",
      "[Stage 6:>                                                        (0 + 12) / 12]\r"
     ]
    },
    {
     "name": "stdout",
     "output_type": "stream",
     "text": [
      "441802\n"
     ]
    },
    {
     "name": "stderr",
     "output_type": "stream",
     "text": [
      "\r",
      "                                                                                \r"
     ]
    }
   ],
   "source": [
    "#this is to force caching process\n",
    "print(stdzd_data_df.count())"
   ]
  },
  {
   "cell_type": "code",
   "execution_count": 11,
   "id": "8e45dc1e",
   "metadata": {},
   "outputs": [
    {
     "name": "stderr",
     "output_type": "stream",
     "text": [
      "23/10/06 15:23:08 WARN MemoryManager: Total allocation exceeds 95.00% (906,992,014 bytes) of heap memory\n",
      "Scaling row group sizes to 96.54% for 7 writers\n",
      "23/10/06 15:23:08 WARN MemoryManager: Total allocation exceeds 95.00% (906,992,014 bytes) of heap memory\n",
      "Scaling row group sizes to 84.47% for 8 writers\n",
      "23/10/06 15:23:08 WARN MemoryManager: Total allocation exceeds 95.00% (906,992,014 bytes) of heap memory\n",
      "Scaling row group sizes to 75.08% for 9 writers\n",
      "23/10/06 15:23:08 WARN MemoryManager: Total allocation exceeds 95.00% (906,992,014 bytes) of heap memory\n",
      "Scaling row group sizes to 67.58% for 10 writers\n",
      "23/10/06 15:23:08 WARN MemoryManager: Total allocation exceeds 95.00% (906,992,014 bytes) of heap memory\n",
      "Scaling row group sizes to 61.43% for 11 writers\n",
      "23/10/06 15:23:08 WARN MemoryManager: Total allocation exceeds 95.00% (906,992,014 bytes) of heap memory\n",
      "Scaling row group sizes to 56.31% for 12 writers\n",
      "23/10/06 15:23:09 WARN MemoryManager: Total allocation exceeds 95.00% (906,992,014 bytes) of heap memory\n",
      "Scaling row group sizes to 61.43% for 11 writers\n",
      "23/10/06 15:23:09 WARN MemoryManager: Total allocation exceeds 95.00% (906,992,014 bytes) of heap memory\n",
      "Scaling row group sizes to 67.58% for 10 writers\n",
      "23/10/06 15:23:09 WARN MemoryManager: Total allocation exceeds 95.00% (906,992,014 bytes) of heap memory\n",
      "Scaling row group sizes to 75.08% for 9 writers\n",
      "23/10/06 15:23:09 WARN MemoryManager: Total allocation exceeds 95.00% (906,992,014 bytes) of heap memory\n",
      "Scaling row group sizes to 84.47% for 8 writers\n",
      "23/10/06 15:23:09 WARN MemoryManager: Total allocation exceeds 95.00% (906,992,014 bytes) of heap memory\n",
      "Scaling row group sizes to 96.54% for 7 writers\n",
      "23/10/06 15:23:10 WARN MemoryManager: Total allocation exceeds 95.00% (906,992,014 bytes) of heap memory\n",
      "Scaling row group sizes to 96.54% for 7 writers\n",
      "23/10/06 15:23:10 WARN MemoryManager: Total allocation exceeds 95.00% (906,992,014 bytes) of heap memory\n",
      "Scaling row group sizes to 96.54% for 7 writers\n",
      "23/10/06 15:23:16 WARN MemoryManager: Total allocation exceeds 95.00% (906,992,014 bytes) of heap memory\n",
      "Scaling row group sizes to 96.54% for 7 writers\n",
      "23/10/06 15:23:17 WARN MemoryManager: Total allocation exceeds 95.00% (906,992,014 bytes) of heap memory\n",
      "Scaling row group sizes to 96.54% for 7 writers\n",
      "23/10/06 15:23:18 WARN MemoryManager: Total allocation exceeds 95.00% (906,992,014 bytes) of heap memory\n",
      "Scaling row group sizes to 96.54% for 7 writers\n",
      "23/10/06 15:23:18 WARN MemoryManager: Total allocation exceeds 95.00% (906,992,014 bytes) of heap memory\n",
      "Scaling row group sizes to 96.54% for 7 writers\n",
      "23/10/06 15:23:18 WARN MemoryManager: Total allocation exceeds 95.00% (906,992,014 bytes) of heap memory\n",
      "Scaling row group sizes to 96.54% for 7 writers\n",
      "23/10/06 15:23:18 WARN MemoryManager: Total allocation exceeds 95.00% (906,992,014 bytes) of heap memory\n",
      "Scaling row group sizes to 84.47% for 8 writers\n",
      "23/10/06 15:23:18 WARN MemoryManager: Total allocation exceeds 95.00% (906,992,014 bytes) of heap memory\n",
      "Scaling row group sizes to 75.08% for 9 writers\n",
      "23/10/06 15:23:18 WARN MemoryManager: Total allocation exceeds 95.00% (906,992,014 bytes) of heap memory\n",
      "Scaling row group sizes to 84.47% for 8 writers\n",
      "23/10/06 15:23:18 WARN MemoryManager: Total allocation exceeds 95.00% (906,992,014 bytes) of heap memory\n",
      "Scaling row group sizes to 96.54% for 7 writers\n",
      "23/10/06 15:23:18 WARN MemoryManager: Total allocation exceeds 95.00% (906,992,014 bytes) of heap memory\n",
      "Scaling row group sizes to 96.54% for 7 writers\n",
      "23/10/06 15:23:18 WARN MemoryManager: Total allocation exceeds 95.00% (906,992,014 bytes) of heap memory\n",
      "Scaling row group sizes to 96.54% for 7 writers\n",
      "23/10/06 15:23:18 WARN MemoryManager: Total allocation exceeds 95.00% (906,992,014 bytes) of heap memory\n",
      "Scaling row group sizes to 96.54% for 7 writers\n",
      "                                                                                \r"
     ]
    },
    {
     "data": {
      "text/plain": [
       "DataFrame[ID: string, URL: string, REGION: string, REGION_URL: string, PRICE: string, YEAR: int, MANUFACTURER: string, MODEL: string, CONDITION: string, CYLINDERS: string, FUEL: string, ODOMETER: string, TITLE_STATUS: string, TRANSMISSION: string, VIN: string, DRIVE: string, SIZE: string, TYPE: string, PAINT_COLOR: string, IMAGE_URL: string, DESCRIPTION: string, COUNTY: string, STATE: string, LAT: string, LONG: string, POSTING_DATE: string, REMOVAL_DATE: string, FILE_NAME: string, RUN_DATE_ID: int]"
      ]
     },
     "execution_count": 11,
     "metadata": {},
     "output_type": "execute_result"
    }
   ],
   "source": [
    "\"\"\"WRITTING STANDARDIZED DATA TO BRONZE\"\"\"\n",
    "(stdzd_data_df.write.format(\"parquet\")\n",
    " .partitionBy(\"POSTING_DATE\")\n",
    " .option(\"replaceWhere\",  f\"{partition_predicate}\")\n",
    " .mode(\"overwrite\").save(bronze_path))\n",
    "\n",
    "stdzd_data_df.unpersist(blocking=True)"
   ]
  },
  {
   "cell_type": "code",
   "execution_count": null,
   "id": "3a481910",
   "metadata": {},
   "outputs": [],
   "source": []
  }
 ],
 "metadata": {
  "kernelspec": {
   "display_name": "Python 3 (ipykernel)",
   "language": "python",
   "name": "python3"
  },
  "language_info": {
   "codemirror_mode": {
    "name": "ipython",
    "version": 3
   },
   "file_extension": ".py",
   "mimetype": "text/x-python",
   "name": "python",
   "nbconvert_exporter": "python",
   "pygments_lexer": "ipython3",
   "version": "3.10.8"
  }
 },
 "nbformat": 4,
 "nbformat_minor": 5
}
